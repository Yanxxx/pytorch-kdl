{
 "cells": [
  {
   "cell_type": "markdown",
   "id": "3eeaa3ca",
   "metadata": {},
   "source": [
    "# PyKDL Robot Pose Generator Test\n",
    "This piece of code is to generate the cartesian pose of a 6 DoF robot manipulator"
   ]
  },
  {
   "cell_type": "code",
   "execution_count": null,
   "id": "607e72b6",
   "metadata": {},
   "outputs": [],
   "source": [
    "import PyKDL"
   ]
  },
  {
   "cell_type": "code",
   "execution_count": 2,
   "id": "fbe07903",
   "metadata": {},
   "outputs": [
    {
     "name": "stdout",
     "output_type": "stream",
     "text": [
      "/workspace\n"
     ]
    }
   ],
   "source": [
    "import os\n",
    "print(os.getcwd())"
   ]
  },
  {
   "cell_type": "code",
   "execution_count": 4,
   "id": "3c3fdeec",
   "metadata": {},
   "outputs": [],
   "source": [
    "from kdl_parser.urdf_parser_py.urdf import URDF\n",
    "from kdl_parser import urdf"
   ]
  },
  {
   "cell_type": "code",
   "execution_count": 13,
   "id": "0273b64e",
   "metadata": {},
   "outputs": [],
   "source": [
    "robot_model_file = '/workspace/urdf/aubo_i3.urdf'\n",
    "ok, tree = urdf.treeFromFile(robot_model_file)\n",
    "# robot = URDF.from_xml_string(robot_model_file)\n",
    "chain = tree.getChain(\"world\", \"tcp_Link\")\n"
   ]
  },
  {
   "cell_type": "code",
   "execution_count": 14,
   "id": "71db3b98",
   "metadata": {},
   "outputs": [
    {
     "ename": "NameError",
     "evalue": "name 'KDLKinematics' is not defined",
     "output_type": "error",
     "traceback": [
      "\u001b[0;31m---------------------------------------------------------------------------\u001b[0m",
      "\u001b[0;31mNameError\u001b[0m                                 Traceback (most recent call last)",
      "\u001b[0;32m<ipython-input-14-1da97d5a95bf>\u001b[0m in \u001b[0;36m<module>\u001b[0;34m\u001b[0m\n\u001b[0;32m----> 1\u001b[0;31m \u001b[0mkdl_kin\u001b[0m \u001b[0;34m=\u001b[0m \u001b[0mKDLKinematics\u001b[0m\u001b[0;34m(\u001b[0m\u001b[0mtree\u001b[0m\u001b[0;34m,\u001b[0m \u001b[0;34m\"world\"\u001b[0m\u001b[0;34m,\u001b[0m \u001b[0;34m\"tcp_Link\"\u001b[0m\u001b[0;34m)\u001b[0m\u001b[0;34m\u001b[0m\u001b[0;34m\u001b[0m\u001b[0m\n\u001b[0m",
      "\u001b[0;31mNameError\u001b[0m: name 'KDLKinematics' is not defined"
     ]
    }
   ],
   "source": [
    "kdl_kin = KDLKinematics(tree, \"world\", \"tcp_Link\")"
   ]
  },
  {
   "cell_type": "code",
   "execution_count": 15,
   "id": "38c6ee64",
   "metadata": {},
   "outputs": [
    {
     "ename": "ModuleNotFoundError",
     "evalue": "No module named 'pykdl_utils'",
     "output_type": "error",
     "traceback": [
      "\u001b[0;31m---------------------------------------------------------------------------\u001b[0m",
      "\u001b[0;31mModuleNotFoundError\u001b[0m                       Traceback (most recent call last)",
      "\u001b[0;32m<ipython-input-15-8c2450bf2a4c>\u001b[0m in \u001b[0;36m<module>\u001b[0;34m\u001b[0m\n\u001b[0;32m----> 1\u001b[0;31m \u001b[0;32mfrom\u001b[0m \u001b[0mpykdl_utils\u001b[0m\u001b[0;34m.\u001b[0m\u001b[0mkdl_kinematics\u001b[0m \u001b[0;32mimport\u001b[0m \u001b[0mKDLKinematics\u001b[0m\u001b[0;34m\u001b[0m\u001b[0;34m\u001b[0m\u001b[0m\n\u001b[0m",
      "\u001b[0;31mModuleNotFoundError\u001b[0m: No module named 'pykdl_utils'"
     ]
    }
   ],
   "source": [
    "from pykdl_utils.kdl_kinematics import KDLKinematics\n"
   ]
  },
  {
   "cell_type": "code",
   "execution_count": null,
   "id": "79525eb6",
   "metadata": {},
   "outputs": [],
   "source": []
  }
 ],
 "metadata": {
  "kernelspec": {
   "display_name": "Python 3",
   "language": "python",
   "name": "python3"
  },
  "language_info": {
   "codemirror_mode": {
    "name": "ipython",
    "version": 3
   },
   "file_extension": ".py",
   "mimetype": "text/x-python",
   "name": "python",
   "nbconvert_exporter": "python",
   "pygments_lexer": "ipython3",
   "version": "3.8.8"
  }
 },
 "nbformat": 4,
 "nbformat_minor": 5
}
