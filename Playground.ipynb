{
 "cells": [
  {
   "cell_type": "code",
   "execution_count": 71,
   "id": "6d1f391c",
   "metadata": {},
   "outputs": [],
   "source": [
    "import torch\n",
    "feature = torch.rand(64, 16, 21, 31)\n",
    "# print(feature.shape, feature)"
   ]
  },
  {
   "cell_type": "code",
   "execution_count": 72,
   "id": "9fcdd190",
   "metadata": {},
   "outputs": [],
   "source": [
    "flattened = feature.view(-1, 31 * 21)\n",
    "# print(flattened.shape, flattened)"
   ]
  },
  {
   "cell_type": "code",
   "execution_count": 73,
   "id": "2b86a11a",
   "metadata": {},
   "outputs": [],
   "source": [
    "import torch.nn.functional as F\n",
    "softmax_attention = F.softmax(flattened/1.0, dim=-1)\n",
    "# print(softmax_attention.shape, softmax_attention)"
   ]
  },
  {
   "cell_type": "code",
   "execution_count": 77,
   "id": "9c61bdd3",
   "metadata": {},
   "outputs": [
    {
     "name": "stdout",
     "output_type": "stream",
     "text": [
      "torch.Size([1024, 1]) torch.Size([1024, 1])\n"
     ]
    }
   ],
   "source": [
    "import numpy as np\n",
    "pos_x, pos_y = np.meshgrid(\n",
    "        np.linspace(-1., 1., 21),\n",
    "        np.linspace(-1., 1., 31)\n",
    "        )\n",
    "pos_x = torch.from_numpy(pos_x.reshape(31*21)).float()\n",
    "pos_y = torch.from_numpy(pos_y.reshape(31*21)).float()\n",
    "expected_x = torch.sum(pos_x*softmax_attention, dim=1, keepdim=True)\n",
    "expected_y = torch.sum(pos_y*softmax_attention, dim=1, keepdim=True)\n",
    "\n",
    "print(expected_x.shape, expected_y.shape)"
   ]
  },
  {
   "cell_type": "code",
   "execution_count": 83,
   "id": "151d7b77",
   "metadata": {},
   "outputs": [
    {
     "name": "stdout",
     "output_type": "stream",
     "text": [
      "torch.Size([1024, 2])\n"
     ]
    }
   ],
   "source": [
    "expected_xy = torch.cat([expected_x, expected_y], 1)\n",
    "xy = expected_xy\n",
    "print(expected_xy.shape)"
   ]
  },
  {
   "cell_type": "code",
   "execution_count": 87,
   "id": "650624ae",
   "metadata": {},
   "outputs": [
    {
     "name": "stdout",
     "output_type": "stream",
     "text": [
      "torch.Size([1024]) torch.Size([64, 16])\n"
     ]
    }
   ],
   "source": [
    "x = xy[:, 0]\n",
    "y = xy[:, 1]\n",
    "rx = torch.reshape(x, (64, 16))\n",
    "ry = torch.reshape(y, (64, 16))\n",
    "print(x.shape, rx.shape)"
   ]
  },
  {
   "cell_type": "code",
   "execution_count": 89,
   "id": "0e95e35e",
   "metadata": {},
   "outputs": [
    {
     "name": "stdout",
     "output_type": "stream",
     "text": [
      "torch.Size([64, 16])\n"
     ]
    }
   ],
   "source": [
    "coord = rx * 320 - 1 + 320 + (ry * 240 + 239) * 640\n",
    "coord = torch.round(coord).long()\n",
    "print(coord.shape)"
   ]
  },
  {
   "cell_type": "code",
   "execution_count": 98,
   "id": "dd453612",
   "metadata": {},
   "outputs": [
    {
     "name": "stdout",
     "output_type": "stream",
     "text": [
      "torch.Size([1, 1024]) torch.Size([1, 1024]) torch.Size([1, 1024])\n",
      "torch.Size([3, 1024])\n"
     ]
    }
   ],
   "source": [
    "Z = torch.take(flattened_depth, coord)\n",
    "Z = torch.reshape(Z, (1, 64 * 16))\n",
    "X = Z / 450 * 640 / 2 * x\n",
    "Y = Z / 450 * 480 / 2 * y\n",
    "print(X.shape, Y.shape, Z.shape)\n",
    "feature_keypoints = torch.cat([X, Y, Z], 0)\n",
    "print(feature_keypoints.shape)"
   ]
  },
  {
   "cell_type": "code",
   "execution_count": 118,
   "id": "9ee321f3",
   "metadata": {},
   "outputs": [
    {
     "name": "stdout",
     "output_type": "stream",
     "text": [
      "torch.Size([3, 1024])\n",
      "torch.Size([2, 1024])\n",
      "torch.Size([1024, 2])\n",
      "torch.Size([2, 1024]) torch.Size([1024, 2])\n"
     ]
    }
   ],
   "source": [
    "delta_xyz = feature_keypoints\n",
    "target = feature_keypoints + delta_xyz\n",
    "print(target.shape)\n",
    "x = target[0, :]\n",
    "y = target[1, :]\n",
    "z = target[2, :]\n",
    "cx = 450 * x * 2 / z / 640\n",
    "cy = 450 * y * 2 / z / 480\n",
    "new_xy = torch.cat([cx[None,:], cy[None,:]], 0)\n",
    "print(new_xy.shape)\n",
    "print(xy.shape)\n",
    "grad_input = torch.transpose(new_xy, 1, 0) - xy\n",
    "print(new_xy.shape, grad_input.shape)"
   ]
  },
  {
   "cell_type": "code",
   "execution_count": 163,
   "id": "3f489c81",
   "metadata": {},
   "outputs": [
    {
     "name": "stdout",
     "output_type": "stream",
     "text": [
      "torch.Size([3, 1024]) tensor([[0.0000e+00, 3.0000e+00, 6.0000e+00,  ..., 3.0630e+03, 3.0660e+03,\n",
      "         3.0690e+03],\n",
      "        [1.0000e+00, 4.0000e+00, 7.0000e+00,  ..., 3.0640e+03, 3.0670e+03,\n",
      "         3.0700e+03],\n",
      "        [2.0000e+00, 5.0000e+00, 8.0000e+00,  ..., 3.0650e+03, 3.0680e+03,\n",
      "         3.0710e+03]])\n",
      "torch.Size([3, 1024])\n"
     ]
    }
   ],
   "source": [
    "data = torch.arange(3072).reshape(64, 48).float()\n",
    "# data = torch.transpose(torch.arange(3072).reshape(48,64), 1, 0)\n",
    "# print(data)\n",
    "size = list(data.shape)\n",
    "data = torch.transpose(data.reshape(size[0], size[1] // 3, 3), 2, 1)\n",
    "# print(data)\n",
    "# data = data.permute(1, 2, 0)\n",
    "# print(data)\n",
    "# data = torch.stack((data[:]), 0)\n",
    "splits_data = torch.split(data, 1, dim = 0)\n",
    "data = torch.squeeze(torch.cat(splits_data, 2))\n",
    "# data = data.reshape(0)\n",
    "print(data.shape, data)\n",
    "br = torch.rand(3,3)\n",
    "bt = torch.rand(3,1)\n",
    "reprojected_pt = torch.matmul(br,data) + bt#[:,None]\n",
    "# reprojected_pt = reprojected_pt.permute(2, 0, 1)\n",
    "# reprojected_pt = reprojected_pt.reshape(size[0], size[1])\n",
    "print(reprojected_pt.shape)"
   ]
  },
  {
   "cell_type": "code",
   "execution_count": 120,
   "id": "bdd72921",
   "metadata": {},
   "outputs": [
    {
     "data": {
      "text/plain": [
       "tensor([[ 0,  0,  0,  ...,  0,  0,  0],\n",
       "        [ 1,  1,  1,  ...,  1,  1,  1],\n",
       "        [ 2,  2,  2,  ...,  2,  2,  2],\n",
       "        ...,\n",
       "        [61, 61, 61,  ..., 61, 61, 61],\n",
       "        [62, 62, 62,  ..., 62, 62, 62],\n",
       "        [63, 63, 63,  ..., 63, 63, 63]])"
      ]
     },
     "execution_count": 120,
     "metadata": {},
     "output_type": "execute_result"
    }
   ],
   "source": [
    "torch.transpose(torch.arange(64).repeat(1,48).reshape(48,64), 1, 0)"
   ]
  },
  {
   "cell_type": "code",
   "execution_count": null,
   "id": "7afe031c",
   "metadata": {},
   "outputs": [],
   "source": []
  },
  {
   "cell_type": "code",
   "execution_count": 78,
   "id": "c1d90b42",
   "metadata": {},
   "outputs": [
    {
     "name": "stdout",
     "output_type": "stream",
     "text": [
      "torch.Size([64, 3072])\n"
     ]
    }
   ],
   "source": [
    "depth = torch.rand(64,1,48,64)\n",
    "flattened_depth = depth.view(-1, 64 * 48)\n",
    "print(flattened_depth.shape)"
   ]
  },
  {
   "cell_type": "code",
   "execution_count": 84,
   "id": "f63e33ed",
   "metadata": {},
   "outputs": [
    {
     "name": "stdout",
     "output_type": "stream",
     "text": [
      "torch.Size([1024, 1]) tensor([[1521.0413],\n",
      "        [1496.0164],\n",
      "        [1504.9271],\n",
      "        ...,\n",
      "        [1504.0492],\n",
      "        [1508.0747],\n",
      "        [1506.8193]])\n"
     ]
    }
   ],
   "source": [
    "coord = expected_x * 32 + 31 + (expected_y * 24 + 23) * 64\n",
    "print(coord.shape, coord)"
   ]
  },
  {
   "cell_type": "code",
   "execution_count": 85,
   "id": "de9e7146",
   "metadata": {},
   "outputs": [
    {
     "name": "stdout",
     "output_type": "stream",
     "text": [
      "torch.Size([64, 16]) tensor([[1521, 1496, 1505,  ..., 1499, 1489, 1523],\n",
      "        [1503, 1501, 1496,  ..., 1509, 1492, 1516],\n",
      "        [1510, 1499, 1506,  ..., 1496, 1492, 1508],\n",
      "        ...,\n",
      "        [1488, 1496, 1503,  ..., 1520, 1491, 1511],\n",
      "        [1506, 1507, 1502,  ..., 1500, 1498, 1495],\n",
      "        [1510, 1503, 1508,  ..., 1504, 1508, 1507]])\n"
     ]
    }
   ],
   "source": [
    "rc = torch.reshape(coord, (64, 16))\n",
    "rc = torch.round(rc).long()\n",
    "print(rc.shape, rc)"
   ]
  },
  {
   "cell_type": "code",
   "execution_count": 81,
   "id": "d5708e3c",
   "metadata": {},
   "outputs": [],
   "source": [
    "z = torch.take(flattened_depth, rc)\n",
    "# print(z.shape, z)"
   ]
  },
  {
   "cell_type": "code",
   "execution_count": 25,
   "id": "17f4d330",
   "metadata": {},
   "outputs": [
    {
     "data": {
      "text/plain": [
       "tensor(0.1919)"
      ]
     },
     "execution_count": 25,
     "metadata": {},
     "output_type": "execute_result"
    }
   ],
   "source": [
    "# flattened_depth[0, 1478]"
   ]
  },
  {
   "cell_type": "code",
   "execution_count": 26,
   "id": "a44b2c36",
   "metadata": {},
   "outputs": [
    {
     "data": {
      "text/plain": [
       "tensor([[ 0.0038],\n",
       "        [ 0.0033],\n",
       "        [-0.0053],\n",
       "        ...,\n",
       "        [ 0.0034],\n",
       "        [-0.0050],\n",
       "        [-0.0101]])"
      ]
     },
     "execution_count": 26,
     "metadata": {},
     "output_type": "execute_result"
    }
   ],
   "source": [
    "# expected_x"
   ]
  },
  {
   "cell_type": "code",
   "execution_count": 37,
   "id": "f7c2c80f",
   "metadata": {},
   "outputs": [
    {
     "name": "stdout",
     "output_type": "stream",
     "text": [
      "torch.Size([1, 1024]) tensor([[ 0.0038,  0.0033, -0.0053,  ...,  0.0034, -0.0050, -0.0101]])\n"
     ]
    }
   ],
   "source": [
    "r_expected_x = torch.reshape(expected_x, (1, 64 * 16))\n",
    "r_expected_y = torch.reshape(expected_y, (1, 64 * 16))\n",
    "Z = torch.reshape(z, (1, 64 * 16))\n",
    "# print(r_expected_x.shape, r_expected_x)"
   ]
  },
  {
   "cell_type": "code",
   "execution_count": 38,
   "id": "709b1dc1",
   "metadata": {},
   "outputs": [
    {
     "name": "stdout",
     "output_type": "stream",
     "text": [
      "torch.Size([1, 1024]) torch.Size([1, 1024])\n"
     ]
    }
   ],
   "source": [
    "f = 450.0\n",
    "X = Z / f * r_expected_x\n",
    "Y = Z / f * r_expected_y\n",
    "# print(X.shape, Y.shape)"
   ]
  },
  {
   "cell_type": "code",
   "execution_count": 40,
   "id": "2895ea08",
   "metadata": {},
   "outputs": [
    {
     "name": "stdout",
     "output_type": "stream",
     "text": [
      "torch.Size([3, 1024])\n"
     ]
    }
   ],
   "source": [
    "output = torch.cat((X,Y,Z), 0)\n",
    "# print(output.shape)"
   ]
  },
  {
   "cell_type": "code",
   "execution_count": 66,
   "id": "b6905b21",
   "metadata": {},
   "outputs": [
    {
     "name": "stdout",
     "output_type": "stream",
     "text": [
      "torch.Size([3, 1024]) tensor([[ 3.0790e-06,  1.8891e-06, -6.9771e-06,  ...,  6.9582e-06,\n",
      "         -3.2779e-06, -1.2797e-05],\n",
      "        [-6.6799e-06,  2.0160e-06,  4.5503e-06,  ..., -8.9243e-07,\n",
      "         -6.2762e-06, -2.8791e-06],\n",
      "        [ 3.6824e-01,  2.5540e-01,  5.8702e-01,  ...,  9.1723e-01,\n",
      "          2.9368e-01,  5.6985e-01]])\n"
     ]
    }
   ],
   "source": [
    "# print(output.shape, output)"
   ]
  },
  {
   "cell_type": "code",
   "execution_count": 68,
   "id": "30a3c311",
   "metadata": {},
   "outputs": [
    {
     "name": "stdout",
     "output_type": "stream",
     "text": [
      "torch.Size([1024, 3])\n",
      "tensor([[ 3.0790e-06, -6.6799e-06,  3.6824e-01],\n",
      "        [ 1.8891e-06,  2.0160e-06,  2.5540e-01],\n",
      "        [-6.9771e-06,  4.5503e-06,  5.8702e-01],\n",
      "        ...,\n",
      "        [ 6.9582e-06, -8.9243e-07,  9.1723e-01],\n",
      "        [-3.2779e-06, -6.2762e-06,  2.9368e-01],\n",
      "        [-1.2797e-05, -2.8791e-06,  5.6985e-01]])\n"
     ]
    }
   ],
   "source": [
    "ct = torch.transpose(output, 1, 0)\n",
    "# print(ct.shape)\n",
    "# ct = torch.reshape(ct, (48, 64))\n",
    "# ct = ct.permute(2, 0, 1)\n",
    "# print(ct)"
   ]
  },
  {
   "cell_type": "code",
   "execution_count": 70,
   "id": "16a517c9",
   "metadata": {},
   "outputs": [
    {
     "name": "stdout",
     "output_type": "stream",
     "text": [
      "torch.Size([64, 48]) tensor([[ 3.0790e-06,  7.3684e-06,  7.0882e-01,  ..., -7.4541e-06,\n",
      "          6.1931e-06,  2.0213e-02],\n",
      "        [-6.6799e-06,  2.7796e-01, -1.9122e-06,  ...,  1.4597e-06,\n",
      "          3.5801e-01, -2.3746e-05],\n",
      "        [ 3.6824e-01, -1.9344e-05,  1.0800e-06,  ...,  7.0882e-01,\n",
      "         -6.1404e-06, -2.7265e-05],\n",
      "        ...,\n",
      "        [-8.7943e-06,  5.8702e-01, -4.1606e-06,  ...,  1.5940e-05,\n",
      "          2.0213e-02, -1.2797e-05],\n",
      "        [ 9.0611e-01,  1.1934e-06, -2.2334e-06,  ...,  8.2196e-01,\n",
      "         -3.2235e-07, -2.8791e-06],\n",
      "        [-3.8233e-07,  5.1653e-07,  3.2809e-01,  ..., -6.8265e-07,\n",
      "         -2.6091e-07,  5.6985e-01]])\n"
     ]
    }
   ],
   "source": [
    "ct = torch.transpose(torch.reshape(torch.reshape(ct, (1, 3072)), (48, 64)), 1, 0)\n",
    "# print(ct.shape, ct)"
   ]
  },
  {
   "cell_type": "code",
   "execution_count": 64,
   "id": "8462ccde",
   "metadata": {},
   "outputs": [
    {
     "data": {
      "text/plain": [
       "tensor([-9.2672e-06, -1.1165e-05,  4.6974e-01])"
      ]
     },
     "execution_count": 64,
     "metadata": {},
     "output_type": "execute_result"
    }
   ],
   "source": [
    "output[:,9]"
   ]
  },
  {
   "cell_type": "code",
   "execution_count": 65,
   "id": "089e8745",
   "metadata": {},
   "outputs": [
    {
     "data": {
      "text/plain": [
       "tensor([ 3.2809e-01, -2.2862e-05, -2.8824e-05])"
      ]
     },
     "execution_count": 65,
     "metadata": {},
     "output_type": "execute_result"
    }
   ],
   "source": [
    "ct[29:32, 0]"
   ]
  },
  {
   "cell_type": "code",
   "execution_count": 62,
   "id": "7a2cda88",
   "metadata": {},
   "outputs": [
    {
     "data": {
      "text/plain": [
       "tensor([-6.4296e-06, -3.5192e-06,  5.6985e-01])"
      ]
     },
     "execution_count": 62,
     "metadata": {},
     "output_type": "execute_result"
    }
   ],
   "source": [
    "ct[:, 9, 0]"
   ]
  },
  {
   "cell_type": "code",
   "execution_count": 54,
   "id": "8dfc8129",
   "metadata": {},
   "outputs": [
    {
     "data": {
      "text/plain": [
       "tensor([ 3.0790e-06, -6.6799e-06,  3.6824e-01])"
      ]
     },
     "execution_count": 54,
     "metadata": {},
     "output_type": "execute_result"
    }
   ],
   "source": [
    "ct[:,0, 0]"
   ]
  },
  {
   "cell_type": "code",
   "execution_count": 55,
   "id": "178fddbf",
   "metadata": {},
   "outputs": [
    {
     "data": {
      "text/plain": [
       "tensor([[0.2493, 0.7042, 0.1844,  ..., 0.5085, 0.2837, 0.9105]])"
      ]
     },
     "execution_count": 55,
     "metadata": {},
     "output_type": "execute_result"
    }
   ],
   "source": [
    "x = torch.rand(1,1024)\n",
    "x"
   ]
  },
  {
   "cell_type": "code",
   "execution_count": 58,
   "id": "bb3e8f95",
   "metadata": {},
   "outputs": [
    {
     "data": {
      "text/plain": [
       "tensor([[0.2493, 0.7042, 0.1844,  ..., 0.7844, 0.7588, 0.6657],\n",
       "        [0.8313, 0.1836, 0.2371,  ..., 0.5157, 0.1571, 0.3898],\n",
       "        [0.3626, 0.2576, 0.6578,  ..., 0.3195, 0.2390, 0.6638],\n",
       "        ...,\n",
       "        [0.6438, 0.8383, 0.5530,  ..., 0.3265, 0.3717, 0.3140],\n",
       "        [0.5593, 0.4217, 0.8428,  ..., 0.6328, 0.2114, 0.0917],\n",
       "        [0.2612, 0.9464, 0.5104,  ..., 0.5085, 0.2837, 0.9105]])"
      ]
     },
     "execution_count": 58,
     "metadata": {},
     "output_type": "execute_result"
    }
   ],
   "source": [
    "x = torch.rand(1,1024)\n",
    "x = torch.reshape(x, (64, 16))\n",
    "x = torch.transpose(x, 1, 0)\n",
    "y = torch.rand(1,1024)\n",
    "y = torch.reshape(y, (64, 16))\n",
    "y = torch.transpose(y, 1, 0)\n",
    "z = torch.rand(1,1024)\n",
    "z = torch.reshape(z, (64, 16))\n",
    "z = torch.transpose(z, 1, 0)"
   ]
  },
  {
   "cell_type": "code",
   "execution_count": 173,
   "id": "7f2aa5bd",
   "metadata": {},
   "outputs": [
    {
     "name": "stdout",
     "output_type": "stream",
     "text": [
      "torch.Size([1024]) torch.Size([1024]) torch.Size([1024])\n"
     ]
    }
   ],
   "source": [
    "x = torch.arange(1024)\n",
    "y = torch.arange(1024,2048)\n",
    "z = torch.arange(2048, 3072)\n",
    "print(x.shape,y.shape,z.shape)"
   ]
  },
  {
   "cell_type": "code",
   "execution_count": 176,
   "id": "28717272",
   "metadata": {},
   "outputs": [
    {
     "name": "stdout",
     "output_type": "stream",
     "text": [
      "torch.Size([64, 3, 1, 16])\n"
     ]
    }
   ],
   "source": [
    "x = x.reshape(64,16)\n",
    "y = y.reshape(64,16)\n",
    "z = z.reshape(64,16)\n",
    "xyz = torch.stack([x,y,z], 1).reshape(64,3,1,16)\n",
    "print(xyz.shape)"
   ]
  },
  {
   "cell_type": "code",
   "execution_count": 187,
   "id": "0c0c8fea",
   "metadata": {},
   "outputs": [
    {
     "data": {
      "text/plain": [
       "tensor([[   0,    1,    2,  ..., 1021, 1022, 1023],\n",
       "        [1024, 1025, 1026,  ..., 2045, 2046, 2047],\n",
       "        [2048, 2049, 2050,  ..., 3069, 3070, 3071]])"
      ]
     },
     "execution_count": 187,
     "metadata": {},
     "output_type": "execute_result"
    }
   ],
   "source": [
    "dxyz = xyz.clone()\n",
    "dxyz = torch.squeeze(dxyz)\n",
    "dxyz = dxyz.permute(1,2,0).transpose(2,1)\n",
    "dxyz = dxyz.reshape(3,1024)\n",
    "dxyz"
   ]
  },
  {
   "cell_type": "code",
   "execution_count": 193,
   "id": "0ecc6e45",
   "metadata": {},
   "outputs": [
    {
     "data": {
      "text/plain": [
       "tensor([   0, 1024, 2048,    1, 1025, 2049,    2, 1026, 2050,    3, 1027, 2051,\n",
       "           4, 1028, 2052,    5, 1029, 2053,    6, 1030, 2054,    7, 1031, 2055,\n",
       "           8, 1032, 2056,    9, 1033, 2057,   10, 1034, 2058,   11, 1035, 2059,\n",
       "          12, 1036, 2060,   13, 1037, 2061,   14, 1038, 2062,   15, 1039, 2063])"
      ]
     },
     "execution_count": 193,
     "metadata": {},
     "output_type": "execute_result"
    }
   ],
   "source": [
    "output = xyz.clone()\n",
    "output = torch.squeeze(output).transpose(2,1)\n",
    "output = output.reshape(64,48)\n",
    "output[0,:]"
   ]
  },
  {
   "cell_type": "code",
   "execution_count": 196,
   "id": "5c09d157",
   "metadata": {},
   "outputs": [
    {
     "name": "stdout",
     "output_type": "stream",
     "text": [
      "torch.Size([64, 16, 21, 31])\n",
      "torch.Size([64, 10416])\n"
     ]
    }
   ],
   "source": [
    "rd = torch.rand(64, 16, 21, 31)\n",
    "print(rd.shape)\n",
    "kd = rd.view(-1, rd.shape[1] * rd.shape[2] * rd.shape[3])\n",
    "print(kd.shape)"
   ]
  },
  {
   "cell_type": "code",
   "execution_count": 198,
   "id": "01a2dfac",
   "metadata": {},
   "outputs": [],
   "source": [
    "import torch\n",
    "import torch.nn as nn\n",
    "from __future__ import print_function, division\n",
    "import torchvision\n",
    "from torchvision import datasets, models, transforms"
   ]
  },
  {
   "cell_type": "code",
   "execution_count": 201,
   "id": "cdd0f063",
   "metadata": {},
   "outputs": [
    {
     "name": "stderr",
     "output_type": "stream",
     "text": [
      "Downloading: \"https://download.pytorch.org/models/resnet18-5c106cde.pth\" to /root/.cache/torch/hub/checkpoints/resnet18-5c106cde.pth\n"
     ]
    },
    {
     "data": {
      "application/vnd.jupyter.widget-view+json": {
       "model_id": "62d98d8632e04fa1b1cdd9fa4abcbd88",
       "version_major": 2,
       "version_minor": 0
      },
      "text/plain": [
       "HBox(children=(HTML(value=''), FloatProgress(value=0.0, max=46827520.0), HTML(value='')))"
      ]
     },
     "metadata": {},
     "output_type": "display_data"
    },
    {
     "name": "stdout",
     "output_type": "stream",
     "text": [
      "\n"
     ]
    }
   ],
   "source": [
    "features = models.resnet18(pretrained=True)"
   ]
  },
  {
   "cell_type": "code",
   "execution_count": 217,
   "id": "126220c7",
   "metadata": {},
   "outputs": [],
   "source": [
    "modules=list(features.children())\n",
    "# print(modules)"
   ]
  },
  {
   "cell_type": "code",
   "execution_count": 235,
   "id": "e994b5d8",
   "metadata": {},
   "outputs": [],
   "source": [
    "data = torch.rand(64,4,120,160)\n",
    "conv1 = nn.Conv2d(4,64,kernel_size=(7,7),stride=(2,2), padding=(3,3),bias=False)\n",
    "len(modules)\n",
    "model = nn.Sequential(conv1, *modules[1:7])"
   ]
  },
  {
   "cell_type": "code",
   "execution_count": 236,
   "id": "2fd9fdd3",
   "metadata": {},
   "outputs": [
    {
     "name": "stdout",
     "output_type": "stream",
     "text": [
      "torch.Size([64, 256, 8, 10])\n"
     ]
    }
   ],
   "source": [
    "output = model(data)\n",
    "print(output.shape)"
   ]
  },
  {
   "cell_type": "code",
   "execution_count": 213,
   "id": "def0a763",
   "metadata": {},
   "outputs": [],
   "source": [
    "modules[0] = nn.Conv2d(4,64,kernel_size=(7,7),stride=(2,2), padding=(3,3),bias=False)"
   ]
  },
  {
   "cell_type": "code",
   "execution_count": 219,
   "id": "61da3aaa",
   "metadata": {},
   "outputs": [
    {
     "ename": "NotImplementedError",
     "evalue": "",
     "output_type": "error",
     "traceback": [
      "\u001b[0;31m---------------------------------------------------------------------------\u001b[0m",
      "\u001b[0;31mNotImplementedError\u001b[0m                       Traceback (most recent call last)",
      "\u001b[0;32m<ipython-input-219-b480c158e1c5>\u001b[0m in \u001b[0;36m<module>\u001b[0;34m\u001b[0m\n\u001b[1;32m      1\u001b[0m \u001b[0mdata\u001b[0m \u001b[0;34m=\u001b[0m \u001b[0mtorch\u001b[0m\u001b[0;34m.\u001b[0m\u001b[0mrand\u001b[0m\u001b[0;34m(\u001b[0m\u001b[0;36m64\u001b[0m\u001b[0;34m,\u001b[0m\u001b[0;36m4\u001b[0m\u001b[0;34m,\u001b[0m\u001b[0;36m120\u001b[0m\u001b[0;34m,\u001b[0m\u001b[0;36m160\u001b[0m\u001b[0;34m)\u001b[0m\u001b[0;34m\u001b[0m\u001b[0;34m\u001b[0m\u001b[0m\n\u001b[1;32m      2\u001b[0m \u001b[0mmodel\u001b[0m \u001b[0;34m=\u001b[0m \u001b[0mnn\u001b[0m\u001b[0;34m.\u001b[0m\u001b[0mModuleList\u001b[0m\u001b[0;34m(\u001b[0m\u001b[0mmodules\u001b[0m\u001b[0;34m)\u001b[0m\u001b[0;34m\u001b[0m\u001b[0;34m\u001b[0m\u001b[0m\n\u001b[0;32m----> 3\u001b[0;31m \u001b[0moutput\u001b[0m \u001b[0;34m=\u001b[0m \u001b[0mmodel\u001b[0m\u001b[0;34m(\u001b[0m\u001b[0;34m)\u001b[0m\u001b[0;34m\u001b[0m\u001b[0;34m\u001b[0m\u001b[0m\n\u001b[0m",
      "\u001b[0;32m/opt/conda/lib/python3.8/site-packages/torch/nn/modules/module.py\u001b[0m in \u001b[0;36m_call_impl\u001b[0;34m(self, *input, **kwargs)\u001b[0m\n\u001b[1;32m    887\u001b[0m             \u001b[0mresult\u001b[0m \u001b[0;34m=\u001b[0m \u001b[0mself\u001b[0m\u001b[0;34m.\u001b[0m\u001b[0m_slow_forward\u001b[0m\u001b[0;34m(\u001b[0m\u001b[0;34m*\u001b[0m\u001b[0minput\u001b[0m\u001b[0;34m,\u001b[0m \u001b[0;34m**\u001b[0m\u001b[0mkwargs\u001b[0m\u001b[0;34m)\u001b[0m\u001b[0;34m\u001b[0m\u001b[0;34m\u001b[0m\u001b[0m\n\u001b[1;32m    888\u001b[0m         \u001b[0;32melse\u001b[0m\u001b[0;34m:\u001b[0m\u001b[0;34m\u001b[0m\u001b[0;34m\u001b[0m\u001b[0m\n\u001b[0;32m--> 889\u001b[0;31m             \u001b[0mresult\u001b[0m \u001b[0;34m=\u001b[0m \u001b[0mself\u001b[0m\u001b[0;34m.\u001b[0m\u001b[0mforward\u001b[0m\u001b[0;34m(\u001b[0m\u001b[0;34m*\u001b[0m\u001b[0minput\u001b[0m\u001b[0;34m,\u001b[0m \u001b[0;34m**\u001b[0m\u001b[0mkwargs\u001b[0m\u001b[0;34m)\u001b[0m\u001b[0;34m\u001b[0m\u001b[0;34m\u001b[0m\u001b[0m\n\u001b[0m\u001b[1;32m    890\u001b[0m         for hook in itertools.chain(\n\u001b[1;32m    891\u001b[0m                 \u001b[0m_global_forward_hooks\u001b[0m\u001b[0;34m.\u001b[0m\u001b[0mvalues\u001b[0m\u001b[0;34m(\u001b[0m\u001b[0;34m)\u001b[0m\u001b[0;34m,\u001b[0m\u001b[0;34m\u001b[0m\u001b[0;34m\u001b[0m\u001b[0m\n",
      "\u001b[0;32m/opt/conda/lib/python3.8/site-packages/torch/nn/modules/container.py\u001b[0m in \u001b[0;36mforward\u001b[0;34m(self)\u001b[0m\n\u001b[1;32m    232\u001b[0m \u001b[0;34m\u001b[0m\u001b[0m\n\u001b[1;32m    233\u001b[0m     \u001b[0;32mdef\u001b[0m \u001b[0mforward\u001b[0m\u001b[0;34m(\u001b[0m\u001b[0mself\u001b[0m\u001b[0;34m)\u001b[0m\u001b[0;34m:\u001b[0m\u001b[0;34m\u001b[0m\u001b[0;34m\u001b[0m\u001b[0m\n\u001b[0;32m--> 234\u001b[0;31m         \u001b[0;32mraise\u001b[0m \u001b[0mNotImplementedError\u001b[0m\u001b[0;34m(\u001b[0m\u001b[0;34m)\u001b[0m\u001b[0;34m\u001b[0m\u001b[0;34m\u001b[0m\u001b[0m\n\u001b[0m\u001b[1;32m    235\u001b[0m \u001b[0;34m\u001b[0m\u001b[0m\n\u001b[1;32m    236\u001b[0m \u001b[0;34m\u001b[0m\u001b[0m\n",
      "\u001b[0;31mNotImplementedError\u001b[0m: "
     ]
    }
   ],
   "source": [
    "data = torch.rand(64,4,120,160)\n",
    "model = nn.ModuleList(modules)\n",
    "output = model(model)"
   ]
  },
  {
   "cell_type": "code",
   "execution_count": null,
   "id": "2c80a31a",
   "metadata": {},
   "outputs": [],
   "source": []
  }
 ],
 "metadata": {
  "kernelspec": {
   "display_name": "Python 3",
   "language": "python",
   "name": "python3"
  },
  "language_info": {
   "codemirror_mode": {
    "name": "ipython",
    "version": 3
   },
   "file_extension": ".py",
   "mimetype": "text/x-python",
   "name": "python",
   "nbconvert_exporter": "python",
   "pygments_lexer": "ipython3",
   "version": "3.8.8"
  }
 },
 "nbformat": 4,
 "nbformat_minor": 5
}
