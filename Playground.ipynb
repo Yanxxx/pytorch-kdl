{
 "cells": [
  {
   "cell_type": "code",
   "execution_count": 5,
   "id": "41ef0a2d",
   "metadata": {},
   "outputs": [],
   "source": [
    "import PyKDL"
   ]
  },
  {
   "cell_type": "code",
   "execution_count": 4,
   "id": "fbe07903",
   "metadata": {},
   "outputs": [
    {
     "name": "stdout",
     "output_type": "stream",
     "text": [
      "/workspace\n"
     ]
    }
   ],
   "source": [
    "import os\n",
    "print(os.getcwd())"
   ]
  },
  {
   "cell_type": "code",
   "execution_count": 16,
   "id": "3c3fdeec",
   "metadata": {},
   "outputs": [],
   "source": [
    "from kdl_parser.urdf_parser_py.urdf import URDF"
   ]
  },
  {
   "cell_type": "code",
   "execution_count": null,
   "id": "0273b64e",
   "metadata": {},
   "outputs": [],
   "source": []
  }
 ],
 "metadata": {
  "kernelspec": {
   "display_name": "Python 3",
   "language": "python",
   "name": "python3"
  },
  "language_info": {
   "codemirror_mode": {
    "name": "ipython",
    "version": 3
   },
   "file_extension": ".py",
   "mimetype": "text/x-python",
   "name": "python",
   "nbconvert_exporter": "python",
   "pygments_lexer": "ipython3",
   "version": "3.8.8"
  }
 },
 "nbformat": 4,
 "nbformat_minor": 5
}
