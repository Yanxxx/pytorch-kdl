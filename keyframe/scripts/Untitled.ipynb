{
 "cells": [
  {
   "cell_type": "code",
   "execution_count": 1,
   "id": "ff15fb22",
   "metadata": {},
   "outputs": [],
   "source": [
    "from dataset import dataset\n",
    "from attention import Attention2D\n",
    "import utils as utils\n",
    "import datetime\n",
    "import torch\n",
    "import torch.nn as nn\n",
    "from os import mkdir, getcwd\n",
    "from os.path import join, dirname"
   ]
  },
  {
   "cell_type": "code",
   "execution_count": 3,
   "id": "817b3ca2",
   "metadata": {},
   "outputs": [],
   "source": [
    "rot, t = utils.camTrans()\n",
    "model = Attention2D() #.to(device)\n",
    "model_path = '../checkpoints/spatial-softmax/20210715-175329/checkpoint-2000.pth'\n",
    "md = torch.load(model_path)\n",
    "ts = md['model']"
   ]
  },
  {
   "cell_type": "code",
   "execution_count": 7,
   "id": "4c8cffbf",
   "metadata": {},
   "outputs": [
    {
     "ename": "RuntimeError",
     "evalue": "Error(s) in loading state_dict for Attention2D:\n\tMissing key(s) in state_dict: \"pose_regress.model.2.weight\", \"pose_regress.model.2.bias\", \"pose_regress.model.3.running_mean\", \"pose_regress.model.3.running_var\", \"pose_regress.model.5.weight\", \"pose_regress.model.5.bias\". \n\tUnexpected key(s) in state_dict: \"pose_regress.model.4.weight\", \"pose_regress.model.4.bias\", \"pose_regress.model.4.running_mean\", \"pose_regress.model.4.running_var\", \"pose_regress.model.4.num_batches_tracked\". \n\tsize mismatch for feature.model.0.weight: copying a param with shape torch.Size([32, 3, 3, 3]) from checkpoint, the shape in current model is torch.Size([32, 4, 3, 3]).\n\tsize mismatch for pose_regress.model.3.weight: copying a param with shape torch.Size([21, 96]) from checkpoint, the shape in current model is torch.Size([48]).\n\tsize mismatch for pose_regress.model.3.bias: copying a param with shape torch.Size([21]) from checkpoint, the shape in current model is torch.Size([48]).",
     "output_type": "error",
     "traceback": [
      "\u001b[0;31m---------------------------------------------------------------------------\u001b[0m",
      "\u001b[0;31mRuntimeError\u001b[0m                              Traceback (most recent call last)",
      "\u001b[0;32m<ipython-input-7-60ad896fb6dd>\u001b[0m in \u001b[0;36m<module>\u001b[0;34m\u001b[0m\n\u001b[0;32m----> 1\u001b[0;31m \u001b[0mmodel\u001b[0m\u001b[0;34m.\u001b[0m\u001b[0mload_state_dict\u001b[0m\u001b[0;34m(\u001b[0m\u001b[0mmd\u001b[0m\u001b[0;34m[\u001b[0m\u001b[0;34m'model'\u001b[0m\u001b[0;34m]\u001b[0m\u001b[0;34m)\u001b[0m\u001b[0;34m\u001b[0m\u001b[0;34m\u001b[0m\u001b[0m\n\u001b[0m",
      "\u001b[0;32m/opt/conda/lib/python3.8/site-packages/torch/nn/modules/module.py\u001b[0m in \u001b[0;36mload_state_dict\u001b[0;34m(self, state_dict, strict)\u001b[0m\n\u001b[1;32m   1221\u001b[0m \u001b[0;34m\u001b[0m\u001b[0m\n\u001b[1;32m   1222\u001b[0m         \u001b[0;32mif\u001b[0m \u001b[0mlen\u001b[0m\u001b[0;34m(\u001b[0m\u001b[0merror_msgs\u001b[0m\u001b[0;34m)\u001b[0m \u001b[0;34m>\u001b[0m \u001b[0;36m0\u001b[0m\u001b[0;34m:\u001b[0m\u001b[0;34m\u001b[0m\u001b[0;34m\u001b[0m\u001b[0m\n\u001b[0;32m-> 1223\u001b[0;31m             raise RuntimeError('Error(s) in loading state_dict for {}:\\n\\t{}'.format(\n\u001b[0m\u001b[1;32m   1224\u001b[0m                                self.__class__.__name__, \"\\n\\t\".join(error_msgs)))\n\u001b[1;32m   1225\u001b[0m         \u001b[0;32mreturn\u001b[0m \u001b[0m_IncompatibleKeys\u001b[0m\u001b[0;34m(\u001b[0m\u001b[0mmissing_keys\u001b[0m\u001b[0;34m,\u001b[0m \u001b[0munexpected_keys\u001b[0m\u001b[0;34m)\u001b[0m\u001b[0;34m\u001b[0m\u001b[0;34m\u001b[0m\u001b[0m\n",
      "\u001b[0;31mRuntimeError\u001b[0m: Error(s) in loading state_dict for Attention2D:\n\tMissing key(s) in state_dict: \"pose_regress.model.2.weight\", \"pose_regress.model.2.bias\", \"pose_regress.model.3.running_mean\", \"pose_regress.model.3.running_var\", \"pose_regress.model.5.weight\", \"pose_regress.model.5.bias\". \n\tUnexpected key(s) in state_dict: \"pose_regress.model.4.weight\", \"pose_regress.model.4.bias\", \"pose_regress.model.4.running_mean\", \"pose_regress.model.4.running_var\", \"pose_regress.model.4.num_batches_tracked\". \n\tsize mismatch for feature.model.0.weight: copying a param with shape torch.Size([32, 3, 3, 3]) from checkpoint, the shape in current model is torch.Size([32, 4, 3, 3]).\n\tsize mismatch for pose_regress.model.3.weight: copying a param with shape torch.Size([21, 96]) from checkpoint, the shape in current model is torch.Size([48]).\n\tsize mismatch for pose_regress.model.3.bias: copying a param with shape torch.Size([21]) from checkpoint, the shape in current model is torch.Size([48])."
     ]
    }
   ],
   "source": [
    "model.load_state_dict(md['model'])"
   ]
  },
  {
   "cell_type": "code",
   "execution_count": null,
   "id": "9921eb32",
   "metadata": {},
   "outputs": [],
   "source": []
  }
 ],
 "metadata": {
  "kernelspec": {
   "display_name": "Python 3",
   "language": "python",
   "name": "python3"
  },
  "language_info": {
   "codemirror_mode": {
    "name": "ipython",
    "version": 3
   },
   "file_extension": ".py",
   "mimetype": "text/x-python",
   "name": "python",
   "nbconvert_exporter": "python",
   "pygments_lexer": "ipython3",
   "version": "3.8.8"
  }
 },
 "nbformat": 4,
 "nbformat_minor": 5
}
