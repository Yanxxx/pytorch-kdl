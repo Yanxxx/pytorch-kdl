{
 "cells": [
  {
   "cell_type": "markdown",
   "id": "427f090d",
   "metadata": {},
   "source": [
    "# PyKDL Robot Pose Generator Test\n",
    "This piece of code is to generate the cartesian pose of a 6 DoF robot manipulator"
   ]
  },
  {
   "cell_type": "code",
   "execution_count": 1,
   "id": "20757001",
   "metadata": {},
   "outputs": [],
   "source": [
    "import PyKDL"
   ]
  },
  {
   "cell_type": "code",
   "execution_count": 2,
   "id": "fbe07903",
   "metadata": {},
   "outputs": [
    {
     "name": "stdout",
     "output_type": "stream",
     "text": [
      "/workspace\n"
     ]
    }
   ],
   "source": [
    "import os\n",
    "print(os.getcwd())"
   ]
  },
  {
   "cell_type": "code",
   "execution_count": 3,
   "id": "3c3fdeec",
   "metadata": {},
   "outputs": [],
   "source": [
    "from kdl_parser.urdf_parser_py.urdf import URDF\n",
    "from kdl_parser import urdf"
   ]
  },
  {
   "cell_type": "code",
   "execution_count": 4,
   "id": "0273b64e",
   "metadata": {},
   "outputs": [],
   "source": [
    "robot_model_file = '/workspace/urdf/aubo_i3.urdf'\n",
    "ok, tree = urdf.treeFromFile(robot_model_file)\n",
    "# robot = URDF.from_xml_string(robot_model_file)\n",
    "chain = tree.getChain(\"world\", \"tcp_Link\")\n"
   ]
  },
  {
   "cell_type": "code",
   "execution_count": 9,
   "id": "09f2d0b8",
   "metadata": {},
   "outputs": [
    {
     "ename": "AssertionError",
     "evalue": "",
     "output_type": "error",
     "traceback": [
      "\u001b[0;31m---------------------------------------------------------------------------\u001b[0m",
      "\u001b[0;31mAssertionError\u001b[0m                            Traceback (most recent call last)",
      "\u001b[0;32m<ipython-input-9-15dfa95abfda>\u001b[0m in \u001b[0;36m<module>\u001b[0;34m\u001b[0m\n\u001b[0;32m----> 1\u001b[0;31m \u001b[0;32mimport\u001b[0m \u001b[0mown_pykdl_utils\u001b[0m\u001b[0;34m\u001b[0m\u001b[0;34m\u001b[0m\u001b[0m\n\u001b[0m",
      "\u001b[0;32m/workspace/own_pykdl_utils/__init__.py\u001b[0m in \u001b[0;36m<module>\u001b[0;34m\u001b[0m\n\u001b[0;32m----> 1\u001b[0;31m \u001b[0;32mfrom\u001b[0m \u001b[0mown_pykdl_utils\u001b[0m \u001b[0;32mimport\u001b[0m \u001b[0mkdl_parser\u001b[0m\u001b[0;34m\u001b[0m\u001b[0;34m\u001b[0m\u001b[0m\n\u001b[0m\u001b[1;32m      2\u001b[0m \u001b[0;32mfrom\u001b[0m \u001b[0mown_pykdl_utils\u001b[0m \u001b[0;32mimport\u001b[0m \u001b[0mkdl_kinematics\u001b[0m\u001b[0;34m\u001b[0m\u001b[0;34m\u001b[0m\u001b[0m\n\u001b[1;32m      3\u001b[0m \u001b[0;32mfrom\u001b[0m \u001b[0mown_pykdl_utils\u001b[0m \u001b[0;32mimport\u001b[0m \u001b[0mjoint_kinematics\u001b[0m\u001b[0;34m\u001b[0m\u001b[0;34m\u001b[0m\u001b[0m\n",
      "\u001b[0;32m/workspace/own_pykdl_utils/kdl_parser.py\u001b[0m in \u001b[0;36m<module>\u001b[0;34m\u001b[0m\n\u001b[1;32m     33\u001b[0m \u001b[0;34m\u001b[0m\u001b[0m\n\u001b[1;32m     34\u001b[0m \u001b[0;32mimport\u001b[0m \u001b[0mPyKDL\u001b[0m \u001b[0;32mas\u001b[0m \u001b[0mkdl\u001b[0m\u001b[0;34m\u001b[0m\u001b[0;34m\u001b[0m\u001b[0m\n\u001b[0;32m---> 35\u001b[0;31m \u001b[0;32mfrom\u001b[0m \u001b[0murdf_parser_py\u001b[0m\u001b[0;34m.\u001b[0m\u001b[0murdf\u001b[0m \u001b[0;32mimport\u001b[0m \u001b[0mRobot\u001b[0m\u001b[0;34m\u001b[0m\u001b[0;34m\u001b[0m\u001b[0m\n\u001b[0m\u001b[1;32m     36\u001b[0m \u001b[0;34m\u001b[0m\u001b[0m\n\u001b[1;32m     37\u001b[0m \u001b[0;32mdef\u001b[0m \u001b[0meuler_to_quat\u001b[0m\u001b[0;34m(\u001b[0m\u001b[0mr\u001b[0m\u001b[0;34m,\u001b[0m \u001b[0mp\u001b[0m\u001b[0;34m,\u001b[0m \u001b[0my\u001b[0m\u001b[0;34m)\u001b[0m\u001b[0;34m:\u001b[0m\u001b[0;34m\u001b[0m\u001b[0;34m\u001b[0m\u001b[0m\n",
      "\u001b[0;32m/workspace/urdf_parser_py/urdf.py\u001b[0m in \u001b[0;36m<module>\u001b[0;34m\u001b[0m\n\u001b[1;32m      8\u001b[0m \u001b[0mxmlr\u001b[0m\u001b[0;34m.\u001b[0m\u001b[0mstart_namespace\u001b[0m\u001b[0;34m(\u001b[0m\u001b[0;34m'urdf'\u001b[0m\u001b[0;34m)\u001b[0m\u001b[0;34m\u001b[0m\u001b[0;34m\u001b[0m\u001b[0m\n\u001b[1;32m      9\u001b[0m \u001b[0;34m\u001b[0m\u001b[0m\n\u001b[0;32m---> 10\u001b[0;31m \u001b[0mxmlr\u001b[0m\u001b[0;34m.\u001b[0m\u001b[0madd_type\u001b[0m\u001b[0;34m(\u001b[0m\u001b[0;34m'element_link'\u001b[0m\u001b[0;34m,\u001b[0m \u001b[0mxmlr\u001b[0m\u001b[0;34m.\u001b[0m\u001b[0mSimpleElementType\u001b[0m\u001b[0;34m(\u001b[0m\u001b[0;34m'link'\u001b[0m\u001b[0;34m,\u001b[0m \u001b[0mstr\u001b[0m\u001b[0;34m)\u001b[0m\u001b[0;34m)\u001b[0m\u001b[0;34m\u001b[0m\u001b[0;34m\u001b[0m\u001b[0m\n\u001b[0m\u001b[1;32m     11\u001b[0m \u001b[0mxmlr\u001b[0m\u001b[0;34m.\u001b[0m\u001b[0madd_type\u001b[0m\u001b[0;34m(\u001b[0m\u001b[0;34m'element_xyz'\u001b[0m\u001b[0;34m,\u001b[0m \u001b[0mxmlr\u001b[0m\u001b[0;34m.\u001b[0m\u001b[0mSimpleElementType\u001b[0m\u001b[0;34m(\u001b[0m\u001b[0;34m'xyz'\u001b[0m\u001b[0;34m,\u001b[0m \u001b[0;34m'vector3'\u001b[0m\u001b[0;34m)\u001b[0m\u001b[0;34m)\u001b[0m\u001b[0;34m\u001b[0m\u001b[0;34m\u001b[0m\u001b[0m\n\u001b[1;32m     12\u001b[0m \u001b[0;34m\u001b[0m\u001b[0m\n",
      "\u001b[0;32m/workspace/kdl_parser/urdf_parser_py/xml_reflection/core.py\u001b[0m in \u001b[0;36madd_type\u001b[0;34m(key, value)\u001b[0m\n\u001b[1;32m     55\u001b[0m     \u001b[0;32mif\u001b[0m \u001b[0misinstance\u001b[0m\u001b[0;34m(\u001b[0m\u001b[0mkey\u001b[0m\u001b[0;34m,\u001b[0m \u001b[0mstr\u001b[0m\u001b[0;34m)\u001b[0m\u001b[0;34m:\u001b[0m\u001b[0;34m\u001b[0m\u001b[0;34m\u001b[0m\u001b[0m\n\u001b[1;32m     56\u001b[0m         \u001b[0mkey\u001b[0m \u001b[0;34m=\u001b[0m \u001b[0mvalue_type_prefix\u001b[0m \u001b[0;34m+\u001b[0m \u001b[0mkey\u001b[0m\u001b[0;34m\u001b[0m\u001b[0;34m\u001b[0m\u001b[0m\n\u001b[0;32m---> 57\u001b[0;31m     \u001b[0;32massert\u001b[0m \u001b[0mkey\u001b[0m \u001b[0;32mnot\u001b[0m \u001b[0;32min\u001b[0m \u001b[0mvalue_types\u001b[0m\u001b[0;34m\u001b[0m\u001b[0;34m\u001b[0m\u001b[0m\n\u001b[0m\u001b[1;32m     58\u001b[0m     \u001b[0mvalue_types\u001b[0m\u001b[0;34m[\u001b[0m\u001b[0mkey\u001b[0m\u001b[0;34m]\u001b[0m \u001b[0;34m=\u001b[0m \u001b[0mvalue\u001b[0m\u001b[0;34m\u001b[0m\u001b[0;34m\u001b[0m\u001b[0m\n\u001b[1;32m     59\u001b[0m \u001b[0;34m\u001b[0m\u001b[0m\n",
      "\u001b[0;31mAssertionError\u001b[0m: "
     ]
    }
   ],
   "source": [
    "import own_pykdl_utils"
   ]
  },
  {
   "cell_type": "code",
   "execution_count": 14,
   "id": "71db3b98",
   "metadata": {},
   "outputs": [
    {
     "ename": "NameError",
     "evalue": "name 'KDLKinematics' is not defined",
     "output_type": "error",
     "traceback": [
      "\u001b[0;31m---------------------------------------------------------------------------\u001b[0m",
      "\u001b[0;31mNameError\u001b[0m                                 Traceback (most recent call last)",
      "\u001b[0;32m<ipython-input-14-1da97d5a95bf>\u001b[0m in \u001b[0;36m<module>\u001b[0;34m\u001b[0m\n\u001b[0;32m----> 1\u001b[0;31m \u001b[0mkdl_kin\u001b[0m \u001b[0;34m=\u001b[0m \u001b[0mKDLKinematics\u001b[0m\u001b[0;34m(\u001b[0m\u001b[0mtree\u001b[0m\u001b[0;34m,\u001b[0m \u001b[0;34m\"world\"\u001b[0m\u001b[0;34m,\u001b[0m \u001b[0;34m\"tcp_Link\"\u001b[0m\u001b[0;34m)\u001b[0m\u001b[0;34m\u001b[0m\u001b[0;34m\u001b[0m\u001b[0m\n\u001b[0m",
      "\u001b[0;31mNameError\u001b[0m: name 'KDLKinematics' is not defined"
     ]
    }
   ],
   "source": [
    "kdl_kin = KDLKinematics(tree, \"world\", \"tcp_Link\")"
   ]
  },
  {
   "cell_type": "code",
   "execution_count": 16,
   "id": "f6e9fafd",
   "metadata": {},
   "outputs": [],
   "source": [
    "import torch"
   ]
  },
  {
   "cell_type": "code",
   "execution_count": 30,
   "id": "24628dd7",
   "metadata": {},
   "outputs": [],
   "source": [
    "class PoseRegression(nn.Sequential):\n",
    "  \n",
    "    def __init__(self):\n",
    "        super().__init__()\n",
    "        self.model = nn.Sequential(\n",
    "          nn.Linear(588, 294),\n",
    "          nn.BatchNorm1d(294),\n",
    "          nn.ReLU(),\n",
    "          nn.Linear(294, 147),\n",
    "#           nn.BatchNorm1d(147),\n",
    "          nn.ReLU(),\n",
    "          nn.Linear(147, 42),\n",
    "#           nn.BatchNorm1d(42),\n",
    "          nn.ReLU(),\n",
    "          nn.Linear(42, 21),\n",
    "#           nn.BatchNorm1d(21),\n",
    "          nn.Tanh()\n",
    "        )\n",
    "    \n",
    "    def forward(self, data):\n",
    "        return self.model(data)\n",
    "    \n",
    "    \n",
    "\n",
    "    \n"
   ]
  },
  {
   "cell_type": "code",
   "execution_count": 33,
   "id": "1b94ff17",
   "metadata": {},
   "outputs": [],
   "source": [
    "pr = PoseRegression()\n"
   ]
  },
  {
   "cell_type": "code",
   "execution_count": 34,
   "id": "2e0b0332",
   "metadata": {},
   "outputs": [],
   "source": [
    "k = torch.randn(588)\n",
    "p = pr(k)"
   ]
  },
  {
   "cell_type": "code",
   "execution_count": 36,
   "id": "78ffad3a",
   "metadata": {},
   "outputs": [
    {
     "name": "stdout",
     "output_type": "stream",
     "text": [
      "tensor([ 0.0996,  0.0890,  0.1291,  0.1021, -0.1634, -0.0520,  0.0086, -0.0110,\n",
      "        -0.0794, -0.0422, -0.1412, -0.1165,  0.0814, -0.1252, -0.0306,  0.0681,\n",
      "        -0.0149,  0.1570, -0.1667, -0.0863,  0.0555], grad_fn=<TanhBackward>)\n"
     ]
    }
   ],
   "source": [
    "print(p)"
   ]
  },
  {
   "cell_type": "code",
   "execution_count": null,
   "id": "41288e81",
   "metadata": {},
   "outputs": [],
   "source": []
  }
 ],
 "metadata": {
  "kernelspec": {
   "display_name": "Python 3",
   "language": "python",
   "name": "python3"
  },
  "language_info": {
   "codemirror_mode": {
    "name": "ipython",
    "version": 3
   },
   "file_extension": ".py",
   "mimetype": "text/x-python",
   "name": "python",
   "nbconvert_exporter": "python",
   "pygments_lexer": "ipython3",
   "version": "3.8.8"
  }
 },
 "nbformat": 4,
 "nbformat_minor": 5
}
