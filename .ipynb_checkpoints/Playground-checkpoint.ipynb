{
 "cells": [
  {
   "cell_type": "markdown",
   "id": "5f72b67f",
   "metadata": {},
   "source": [
    "# PyKDL Robot Pose Generator Test\n",
    "This piece of code is to generate the cartesian pose of a 6 DoF robot manipulator"
   ]
  },
  {
   "cell_type": "code",
   "execution_count": null,
   "id": "a8ff30d5",
   "metadata": {},
   "outputs": [],
   "source": [
    "import PyKDL"
   ]
  },
  {
   "cell_type": "code",
   "execution_count": 2,
   "id": "fbe07903",
   "metadata": {},
   "outputs": [
    {
     "name": "stdout",
     "output_type": "stream",
     "text": [
      "/workspace\n"
     ]
    }
   ],
   "source": [
    "import os\n",
    "print(os.getcwd())"
   ]
  },
  {
   "cell_type": "code",
   "execution_count": 4,
   "id": "3c3fdeec",
   "metadata": {},
   "outputs": [],
   "source": [
    "from kdl_parser.urdf_parser_py.urdf import URDF\n",
    "from kdl_parser import urdf"
   ]
  },
  {
   "cell_type": "code",
   "execution_count": 10,
   "id": "0273b64e",
   "metadata": {},
   "outputs": [
    {
     "ename": "NameError",
     "evalue": "name 'base_link' is not defined",
     "output_type": "error",
     "traceback": [
      "\u001b[0;31m---------------------------------------------------------------------------\u001b[0m",
      "\u001b[0;31mNameError\u001b[0m                                 Traceback (most recent call last)",
      "\u001b[0;32m<ipython-input-10-cf73bfbd5779>\u001b[0m in \u001b[0;36m<module>\u001b[0;34m\u001b[0m\n\u001b[1;32m      2\u001b[0m \u001b[0mok\u001b[0m\u001b[0;34m,\u001b[0m \u001b[0mtree\u001b[0m \u001b[0;34m=\u001b[0m \u001b[0murdf\u001b[0m\u001b[0;34m.\u001b[0m\u001b[0mtreeFromFile\u001b[0m\u001b[0;34m(\u001b[0m\u001b[0mrobot_model_file\u001b[0m\u001b[0;34m)\u001b[0m\u001b[0;34m\u001b[0m\u001b[0;34m\u001b[0m\u001b[0m\n\u001b[1;32m      3\u001b[0m \u001b[0;31m# robot = URDF.from_xml_string(robot_model_file)\u001b[0m\u001b[0;34m\u001b[0m\u001b[0;34m\u001b[0m\u001b[0;34m\u001b[0m\u001b[0m\n\u001b[0;32m----> 4\u001b[0;31m \u001b[0mchain\u001b[0m \u001b[0;34m=\u001b[0m \u001b[0mtree\u001b[0m\u001b[0;34m.\u001b[0m\u001b[0mgetChain\u001b[0m\u001b[0;34m(\u001b[0m\u001b[0mbase_link\u001b[0m\u001b[0;34m,\u001b[0m \u001b[0mend_link\u001b[0m\u001b[0;34m)\u001b[0m\u001b[0;34m\u001b[0m\u001b[0;34m\u001b[0m\u001b[0m\n\u001b[0m",
      "\u001b[0;31mNameError\u001b[0m: name 'base_link' is not defined"
     ]
    }
   ],
   "source": [
    "robot_model_file = '/workspace/urdf/aubo_i3.urdf'\n",
    "ok, tree = urdf.treeFromFile(robot_model_file)\n",
    "# robot = URDF.from_xml_string(robot_model_file)\n",
    "chain = tree.getChain(world, tcp_Link)\n"
   ]
  },
  {
   "cell_type": "code",
   "execution_count": null,
   "id": "71db3b98",
   "metadata": {},
   "outputs": [],
   "source": [
    "kdl_kin = KDLKinematics(robot, base_link, end_link)"
   ]
  }
 ],
 "metadata": {
  "kernelspec": {
   "display_name": "Python 3",
   "language": "python",
   "name": "python3"
  },
  "language_info": {
   "codemirror_mode": {
    "name": "ipython",
    "version": 3
   },
   "file_extension": ".py",
   "mimetype": "text/x-python",
   "name": "python",
   "nbconvert_exporter": "python",
   "pygments_lexer": "ipython3",
   "version": "3.8.8"
  }
 },
 "nbformat": 4,
 "nbformat_minor": 5
}
