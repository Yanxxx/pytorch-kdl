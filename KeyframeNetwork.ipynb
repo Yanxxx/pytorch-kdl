{
 "cells": [
  {
   "cell_type": "code",
   "execution_count": null,
   "id": "64ef86f3",
   "metadata": {},
   "outputs": [],
   "source": [
    "import torch\n",
    "import torch.nn as nn"
   ]
  },
  {
   "cell_type": "code",
   "execution_count": null,
   "id": "5408168e",
   "metadata": {},
   "outputs": [],
   "source": [
    "class KeyframeNetwork(nn):\n",
    "    \n",
    "    def __init__(self):\n",
    "        super(Net, self).__init__()\n",
    "        \n",
    "        \n",
    "        \n",
    "        pass\n",
    "    \n",
    "    def __call__(self):\n",
    "        pass\n",
    "    \n",
    "    def Net(self):\n",
    "        self.c1 = nn.Conv2d( 3, 16, stride = 1, kernel_size=(3,3))\n",
    "        self.c2 = nn.Conv2d(16, 32, stride = 1, kernel_size=(3,3))\n",
    "        self.c3 = nn.Conv2d(32, 32, stride = 1, kernel_size=(3,3))\n",
    "        self.c4 = nn.Conv2d(32, 32, stride = 1, kernel_size=(3,3))\n",
    "        \n",
    "        self.c5 = nn.Conv2d(32, 64, stride = 2, kernel_size=(3,3))\n",
    "        self.c6 = nn.Conv2d(64, 64, stride = 1, kernel_size=(3,3))\n",
    "        \n",
    "        self.depth_conv1 = nn.Conv2d( 1, 16, stride = 1, kernel_size=(3,3))\n",
    "        self.depth_conv2 = nn.Conv2d(32, 32, stride = 1, kernel_size=(3,3))\n",
    "        self.depth_conv3 = nn.Conv2d(32, 32, stride = 1, kernel_size=(3,3))\n",
    "        self.depth_conv4 = nn.Conv2d(32, 32, stride = 1, kernel_size=(3,3))\n",
    "        \n",
    "        self.depth_conv5 = nn.Conv2d(32, 64, stride = 2, kernel_size=(3,3))\n",
    "        self.depth_conv6 = nn.Conv2d(64, 64, stride = 1, kernel_size=(3,3))\n",
    "        \n",
    "        \n",
    "    \n",
    "    def forward(self, image, depth, pose):\n",
    "        \n",
    "        \n",
    "        \n",
    "        pass\n",
    "    \n",
    "    "
   ]
  }
 ],
 "metadata": {
  "kernelspec": {
   "display_name": "Python 3",
   "language": "python",
   "name": "python3"
  },
  "language_info": {
   "codemirror_mode": {
    "name": "ipython",
    "version": 3
   },
   "file_extension": ".py",
   "mimetype": "text/x-python",
   "name": "python",
   "nbconvert_exporter": "python",
   "pygments_lexer": "ipython3",
   "version": "3.8.8"
  }
 },
 "nbformat": 4,
 "nbformat_minor": 5
}
